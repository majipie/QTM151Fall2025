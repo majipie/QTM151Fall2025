{
 "cells": [
  {
   "cell_type": "markdown",
   "id": "3f300887",
   "metadata": {},
   "source": [
    "<font size=\"5\">\n",
    "<span style=\"color:white\"> This is my first Jupyter notebook </span>"
   ]
  },
  {
   "cell_type": "markdown",
   "id": "431e331b",
   "metadata": {},
   "source": [
    " <font size=\"3\">\n",
    " <span style=\"color:gray\"> Cheat Sheet Link https://notebook.community/tschinz/iPython_Workspace/00_Admin/CheatSheet/Markdown%20CheatSheet</span>\n",
    "\n",
    "\n"
   ]
  },
  {
   "cell_type": "code",
   "execution_count": null,
   "id": "ec6312ca",
   "metadata": {},
   "outputs": [
    {
     "name": "stdout",
     "output_type": "stream",
     "text": [
      "My name is Maggie Dai\n"
     ]
    }
   ],
   "source": [
    "print(\"My name is Maggie Dai\")\n"
   ]
  }
 ],
 "metadata": {
  "kernelspec": {
   "display_name": "base",
   "language": "python",
   "name": "python3"
  },
  "language_info": {
   "codemirror_mode": {
    "name": "ipython",
    "version": 3
   },
   "file_extension": ".py",
   "mimetype": "text/x-python",
   "name": "python",
   "nbconvert_exporter": "python",
   "pygments_lexer": "ipython3",
   "version": "3.13.5"
  }
 },
 "nbformat": 4,
 "nbformat_minor": 5
}
